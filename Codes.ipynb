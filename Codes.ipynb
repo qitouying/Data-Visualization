{
 "cells": [
  {
   "cell_type": "markdown",
   "id": "22b9761e",
   "metadata": {},
   "source": [
    "# Imports"
   ]
  },
  {
   "cell_type": "code",
   "execution_count": null,
   "id": "beb03484",
   "metadata": {},
   "outputs": [],
   "source": [
    "import numpy as np\n",
    "import pandas as pd\n",
    "import matplotlib.pyplot as plt\n",
    "import seaborn as sns\n",
    "\n",
    "import plotly.express as px\n",
    "from plotly.subplots import make_subplots\n",
    "import plotly.graph_objects as go"
   ]
  },
  {
   "cell_type": "markdown",
   "id": "06abff2e",
   "metadata": {},
   "source": [
    "# Exporting Datasets"
   ]
  },
  {
   "cell_type": "code",
   "execution_count": 2,
   "id": "d1a2381d",
   "metadata": {},
   "outputs": [
    {
     "data": {
      "text/html": [
       "<div>\n",
       "<style scoped>\n",
       "    .dataframe tbody tr th:only-of-type {\n",
       "        vertical-align: middle;\n",
       "    }\n",
       "\n",
       "    .dataframe tbody tr th {\n",
       "        vertical-align: top;\n",
       "    }\n",
       "\n",
       "    .dataframe thead th {\n",
       "        text-align: right;\n",
       "    }\n",
       "</style>\n",
       "<table border=\"1\" class=\"dataframe\">\n",
       "  <thead>\n",
       "    <tr style=\"text-align: right;\">\n",
       "      <th></th>\n",
       "      <th>Name</th>\n",
       "      <th>ID</th>\n",
       "      <th>Country</th>\n",
       "      <th>Website</th>\n",
       "      <th>Groups</th>\n",
       "      <th>Region</th>\n",
       "      <th>Stage</th>\n",
       "      <th>Sector</th>\n",
       "      <th>Description</th>\n",
       "      <th>AI_Publications</th>\n",
       "      <th>...</th>\n",
       "      <th>Knowledge_Representation</th>\n",
       "      <th>Language_Processing</th>\n",
       "      <th>Measuring_n_Testing</th>\n",
       "      <th>Planning_n_Scheduling</th>\n",
       "      <th>Robotics</th>\n",
       "      <th>Speech_Processing</th>\n",
       "      <th>Workforce_AI_workers</th>\n",
       "      <th>Workforce_Tech_Team_Workers</th>\n",
       "      <th>City</th>\n",
       "      <th>State/province</th>\n",
       "    </tr>\n",
       "  </thead>\n",
       "  <tbody>\n",
       "    <tr>\n",
       "      <th>0</th>\n",
       "      <td>Accenture Plc</td>\n",
       "      <td>803</td>\n",
       "      <td>Ireland</td>\n",
       "      <td>https://www.accenture.com/</td>\n",
       "      <td>S&amp;P 500</td>\n",
       "      <td>Europe</td>\n",
       "      <td>Mature</td>\n",
       "      <td>Software &amp; IT Services</td>\n",
       "      <td>Accenture is a professional services company, ...</td>\n",
       "      <td>208</td>\n",
       "      <td>...</td>\n",
       "      <td>102</td>\n",
       "      <td>33</td>\n",
       "      <td>13</td>\n",
       "      <td>129</td>\n",
       "      <td>0</td>\n",
       "      <td>23</td>\n",
       "      <td>13610</td>\n",
       "      <td>166212</td>\n",
       "      <td>Dublin</td>\n",
       "      <td>Dublin</td>\n",
       "    </tr>\n",
       "    <tr>\n",
       "      <th>1</th>\n",
       "      <td>Cognizant</td>\n",
       "      <td>806</td>\n",
       "      <td>United States</td>\n",
       "      <td>https://www.cognizant.com</td>\n",
       "      <td>S&amp;P 500</td>\n",
       "      <td>North America</td>\n",
       "      <td>Mature</td>\n",
       "      <td>Software &amp; IT Services</td>\n",
       "      <td>Cognizant is a professional services company, ...</td>\n",
       "      <td>209</td>\n",
       "      <td>...</td>\n",
       "      <td>12</td>\n",
       "      <td>1</td>\n",
       "      <td>0</td>\n",
       "      <td>7</td>\n",
       "      <td>0</td>\n",
       "      <td>5</td>\n",
       "      <td>5226</td>\n",
       "      <td>130530</td>\n",
       "      <td>Teaneck</td>\n",
       "      <td>New Jersey</td>\n",
       "    </tr>\n",
       "    <tr>\n",
       "      <th>2</th>\n",
       "      <td>Amazon</td>\n",
       "      <td>23</td>\n",
       "      <td>United States</td>\n",
       "      <td>http://amazon.com</td>\n",
       "      <td>S&amp;P 500, Global Big Tech</td>\n",
       "      <td>North America</td>\n",
       "      <td>Mature</td>\n",
       "      <td>Retailers</td>\n",
       "      <td>Amazon is a global tech firm with a focus on e...</td>\n",
       "      <td>3313</td>\n",
       "      <td>...</td>\n",
       "      <td>135</td>\n",
       "      <td>23</td>\n",
       "      <td>179</td>\n",
       "      <td>131</td>\n",
       "      <td>9</td>\n",
       "      <td>265</td>\n",
       "      <td>14164</td>\n",
       "      <td>128591</td>\n",
       "      <td>Seattle</td>\n",
       "      <td>Washington</td>\n",
       "    </tr>\n",
       "    <tr>\n",
       "      <th>3</th>\n",
       "      <td>IBM</td>\n",
       "      <td>115</td>\n",
       "      <td>United States</td>\n",
       "      <td>http://www.ibm.com/</td>\n",
       "      <td>S&amp;P 500, Global Big Tech</td>\n",
       "      <td>North America</td>\n",
       "      <td>Mature</td>\n",
       "      <td>Software &amp; IT Services</td>\n",
       "      <td>IBM is an IT technology and consulting firm pr...</td>\n",
       "      <td>7428</td>\n",
       "      <td>...</td>\n",
       "      <td>1753</td>\n",
       "      <td>386</td>\n",
       "      <td>296</td>\n",
       "      <td>828</td>\n",
       "      <td>4</td>\n",
       "      <td>471</td>\n",
       "      <td>6114</td>\n",
       "      <td>117521</td>\n",
       "      <td>Armonk</td>\n",
       "      <td>New York</td>\n",
       "    </tr>\n",
       "    <tr>\n",
       "      <th>4</th>\n",
       "      <td>Microsoft</td>\n",
       "      <td>163</td>\n",
       "      <td>United States</td>\n",
       "      <td>http://www.microsoft.com</td>\n",
       "      <td>S&amp;P 500, Global Big Tech, GenAI Contenders</td>\n",
       "      <td>North America</td>\n",
       "      <td>Mature</td>\n",
       "      <td>Software &amp; IT Services</td>\n",
       "      <td>Microsoft is a software corporation that devel...</td>\n",
       "      <td>9807</td>\n",
       "      <td>...</td>\n",
       "      <td>468</td>\n",
       "      <td>214</td>\n",
       "      <td>61</td>\n",
       "      <td>550</td>\n",
       "      <td>0</td>\n",
       "      <td>365</td>\n",
       "      <td>5245</td>\n",
       "      <td>104414</td>\n",
       "      <td>Redmond</td>\n",
       "      <td>Washington</td>\n",
       "    </tr>\n",
       "  </tbody>\n",
       "</table>\n",
       "<p>5 rows × 56 columns</p>\n",
       "</div>"
      ],
      "text/plain": [
       "            Name   ID        Country                     Website  \\\n",
       "0  Accenture Plc  803        Ireland  https://www.accenture.com/   \n",
       "1      Cognizant  806  United States   https://www.cognizant.com   \n",
       "2         Amazon   23  United States           http://amazon.com   \n",
       "3            IBM  115  United States         http://www.ibm.com/   \n",
       "4      Microsoft  163  United States    http://www.microsoft.com   \n",
       "\n",
       "                                       Groups         Region   Stage  \\\n",
       "0                                     S&P 500         Europe  Mature   \n",
       "1                                     S&P 500  North America  Mature   \n",
       "2                    S&P 500, Global Big Tech  North America  Mature   \n",
       "3                    S&P 500, Global Big Tech  North America  Mature   \n",
       "4  S&P 500, Global Big Tech, GenAI Contenders  North America  Mature   \n",
       "\n",
       "                   Sector                                        Description  \\\n",
       "0  Software & IT Services  Accenture is a professional services company, ...   \n",
       "1  Software & IT Services  Cognizant is a professional services company, ...   \n",
       "2               Retailers  Amazon is a global tech firm with a focus on e...   \n",
       "3  Software & IT Services  IBM is an IT technology and consulting firm pr...   \n",
       "4  Software & IT Services  Microsoft is a software corporation that devel...   \n",
       "\n",
       "   AI_Publications  ...  Knowledge_Representation  Language_Processing  \\\n",
       "0              208  ...                       102                   33   \n",
       "1              209  ...                        12                    1   \n",
       "2             3313  ...                       135                   23   \n",
       "3             7428  ...                      1753                  386   \n",
       "4             9807  ...                       468                  214   \n",
       "\n",
       "   Measuring_n_Testing  Planning_n_Scheduling  Robotics  Speech_Processing  \\\n",
       "0                   13                    129         0                 23   \n",
       "1                    0                      7         0                  5   \n",
       "2                  179                    131         9                265   \n",
       "3                  296                    828         4                471   \n",
       "4                   61                    550         0                365   \n",
       "\n",
       "   Workforce_AI_workers  Workforce_Tech_Team_Workers     City  State/province  \n",
       "0                 13610                       166212   Dublin          Dublin  \n",
       "1                  5226                       130530  Teaneck      New Jersey  \n",
       "2                 14164                       128591  Seattle      Washington  \n",
       "3                  6114                       117521   Armonk        New York  \n",
       "4                  5245                       104414  Redmond      Washington  \n",
       "\n",
       "[5 rows x 56 columns]"
      ]
     },
     "execution_count": 2,
     "metadata": {},
     "output_type": "execute_result"
    }
   ],
   "source": [
    "# Export Dataset 1 (core.csv)\n",
    "\n",
    "df1 = pd.read_csv(\"core.csv\")\n",
    "df1.head()"
   ]
  },
  {
   "cell_type": "code",
   "execution_count": 4,
   "id": "4061c96e",
   "metadata": {},
   "outputs": [
    {
     "data": {
      "text/html": [
       "<div>\n",
       "<style scoped>\n",
       "    .dataframe tbody tr th:only-of-type {\n",
       "        vertical-align: middle;\n",
       "    }\n",
       "\n",
       "    .dataframe tbody tr th {\n",
       "        vertical-align: top;\n",
       "    }\n",
       "\n",
       "    .dataframe thead th {\n",
       "        text-align: right;\n",
       "    }\n",
       "</style>\n",
       "<table border=\"1\" class=\"dataframe\">\n",
       "  <thead>\n",
       "    <tr style=\"text-align: right;\">\n",
       "      <th></th>\n",
       "      <th>Name</th>\n",
       "      <th>ID</th>\n",
       "      <th>Ticker</th>\n",
       "      <th>Exchange</th>\n",
       "    </tr>\n",
       "  </thead>\n",
       "  <tbody>\n",
       "    <tr>\n",
       "      <th>0</th>\n",
       "      <td>C. H. Robinson Worldwide</td>\n",
       "      <td>2239</td>\n",
       "      <td>CHRW</td>\n",
       "      <td>NASDAQ</td>\n",
       "    </tr>\n",
       "    <tr>\n",
       "      <th>1</th>\n",
       "      <td>Kraft Heinz</td>\n",
       "      <td>2161</td>\n",
       "      <td>KHC</td>\n",
       "      <td>NASDAQ</td>\n",
       "    </tr>\n",
       "    <tr>\n",
       "      <th>2</th>\n",
       "      <td>Fastenal</td>\n",
       "      <td>2316</td>\n",
       "      <td>FAST</td>\n",
       "      <td>NASDAQ</td>\n",
       "    </tr>\n",
       "    <tr>\n",
       "      <th>3</th>\n",
       "      <td>Splunk</td>\n",
       "      <td>237</td>\n",
       "      <td>SPLK</td>\n",
       "      <td>NASDAQ</td>\n",
       "    </tr>\n",
       "    <tr>\n",
       "      <th>4</th>\n",
       "      <td>Kroger</td>\n",
       "      <td>1813</td>\n",
       "      <td>KR</td>\n",
       "      <td>NYSE</td>\n",
       "    </tr>\n",
       "  </tbody>\n",
       "</table>\n",
       "</div>"
      ],
      "text/plain": [
       "                       Name    ID Ticker Exchange\n",
       "0  C. H. Robinson Worldwide  2239   CHRW   NASDAQ\n",
       "1               Kraft Heinz  2161    KHC   NASDAQ\n",
       "2                  Fastenal  2316   FAST   NASDAQ\n",
       "3                    Splunk   237   SPLK   NASDAQ\n",
       "4                    Kroger  1813     KR     NYSE"
      ]
     },
     "execution_count": 4,
     "metadata": {},
     "output_type": "execute_result"
    }
   ],
   "source": [
    "# Export Dataset 2 (ticker.csv)\n",
    "\n",
    "df2 = pd.read_csv(\"ticker.csv\")\n",
    "df2.head()"
   ]
  },
  {
   "cell_type": "markdown",
   "id": "5298da23",
   "metadata": {},
   "source": [
    "# Exploring Dataset"
   ]
  },
  {
   "cell_type": "code",
   "execution_count": null,
   "id": "f5e5f4b8",
   "metadata": {},
   "outputs": [
    {
     "data": {
      "text/plain": [
       "(array([False, False, False, False, False, False, False, False, False,\n",
       "        False, False, False, False, False, False, False, False, False,\n",
       "        False, False, False, False, False, False, False, False, False,\n",
       "        False, False, False, False, False, False, False, False, False,\n",
       "        False, False, False, False, False, False, False, False, False,\n",
       "        False, False, False, False, False, False, False, False, False,\n",
       "        False, False]),\n",
       " array([False, False, False, False]))"
      ]
     },
     "execution_count": 100,
     "metadata": {},
     "output_type": "execute_result"
    }
   ],
   "source": [
    "# Checking for Missing Headers\n",
    "df1.columns.isna(), df2.columns.isna()"
   ]
  },
  {
   "cell_type": "code",
   "execution_count": 112,
   "id": "0ba26ba6",
   "metadata": {},
   "outputs": [
    {
     "data": {
      "text/plain": [
       "((678, 56), (678, 56))"
      ]
     },
     "execution_count": 112,
     "metadata": {},
     "output_type": "execute_result"
    }
   ],
   "source": [
    "# Checking for duplicate records - No duplicated data present\n",
    "df1.shape, df1.drop_duplicates().shape"
   ]
  },
  {
   "cell_type": "code",
   "execution_count": null,
   "id": "955f1a3f",
   "metadata": {},
   "outputs": [
    {
     "data": {
      "text/plain": [
       "((711, 4), (709, 4))"
      ]
     },
     "execution_count": 108,
     "metadata": {},
     "output_type": "execute_result"
    }
   ],
   "source": [
    "# Checking for duplicate records - 2 duplicated data present\n",
    "df2.shape, df2.drop_duplicates().shape"
   ]
  },
  {
   "cell_type": "code",
   "execution_count": null,
   "id": "cf394160",
   "metadata": {},
   "outputs": [
    {
     "data": {
      "text/html": [
       "<div>\n",
       "<style scoped>\n",
       "    .dataframe tbody tr th:only-of-type {\n",
       "        vertical-align: middle;\n",
       "    }\n",
       "\n",
       "    .dataframe tbody tr th {\n",
       "        vertical-align: top;\n",
       "    }\n",
       "\n",
       "    .dataframe thead th {\n",
       "        text-align: right;\n",
       "    }\n",
       "</style>\n",
       "<table border=\"1\" class=\"dataframe\">\n",
       "  <thead>\n",
       "    <tr style=\"text-align: right;\">\n",
       "      <th></th>\n",
       "      <th>Name</th>\n",
       "      <th>ID</th>\n",
       "      <th>Ticker</th>\n",
       "      <th>Exchange</th>\n",
       "    </tr>\n",
       "  </thead>\n",
       "  <tbody>\n",
       "    <tr>\n",
       "      <th>548</th>\n",
       "      <td>Ingersoll Rand</td>\n",
       "      <td>2367</td>\n",
       "      <td>IR</td>\n",
       "      <td>NYSE</td>\n",
       "    </tr>\n",
       "    <tr>\n",
       "      <th>664</th>\n",
       "      <td>SL Green Realty</td>\n",
       "      <td>2491</td>\n",
       "      <td>SLG.PRI</td>\n",
       "      <td>NYSE</td>\n",
       "    </tr>\n",
       "  </tbody>\n",
       "</table>\n",
       "</div>"
      ],
      "text/plain": [
       "                Name    ID   Ticker Exchange\n",
       "548   Ingersoll Rand  2367       IR     NYSE\n",
       "664  SL Green Realty  2491  SLG.PRI     NYSE"
      ]
     },
     "execution_count": 113,
     "metadata": {},
     "output_type": "execute_result"
    }
   ],
   "source": [
    "# Identifiying Duplicated records\n",
    "df2[df2.duplicated()]"
   ]
  },
  {
   "cell_type": "code",
   "execution_count": null,
   "id": "629c9087",
   "metadata": {},
   "outputs": [
    {
     "data": {
      "text/html": [
       "<div>\n",
       "<style scoped>\n",
       "    .dataframe tbody tr th:only-of-type {\n",
       "        vertical-align: middle;\n",
       "    }\n",
       "\n",
       "    .dataframe tbody tr th {\n",
       "        vertical-align: top;\n",
       "    }\n",
       "\n",
       "    .dataframe thead th {\n",
       "        text-align: right;\n",
       "    }\n",
       "</style>\n",
       "<table border=\"1\" class=\"dataframe\">\n",
       "  <thead>\n",
       "    <tr style=\"text-align: right;\">\n",
       "      <th></th>\n",
       "      <th>Name</th>\n",
       "      <th>ID</th>\n",
       "      <th>Ticker</th>\n",
       "      <th>Exchange</th>\n",
       "    </tr>\n",
       "  </thead>\n",
       "  <tbody>\n",
       "    <tr>\n",
       "      <th>547</th>\n",
       "      <td>Ingersoll Rand</td>\n",
       "      <td>2367</td>\n",
       "      <td>IR</td>\n",
       "      <td>NYSE</td>\n",
       "    </tr>\n",
       "    <tr>\n",
       "      <th>548</th>\n",
       "      <td>Ingersoll Rand</td>\n",
       "      <td>2367</td>\n",
       "      <td>IR</td>\n",
       "      <td>NYSE</td>\n",
       "    </tr>\n",
       "  </tbody>\n",
       "</table>\n",
       "</div>"
      ],
      "text/plain": [
       "               Name    ID Ticker Exchange\n",
       "547  Ingersoll Rand  2367     IR     NYSE\n",
       "548  Ingersoll Rand  2367     IR     NYSE"
      ]
     },
     "execution_count": 114,
     "metadata": {},
     "output_type": "execute_result"
    }
   ],
   "source": [
    "# Searching up one of the duplicated records\n",
    "df2[df2['Name']==\"Ingersoll Rand\"]"
   ]
  },
  {
   "cell_type": "code",
   "execution_count": null,
   "id": "4715b716",
   "metadata": {},
   "outputs": [
    {
     "name": "stdout",
     "output_type": "stream",
     "text": [
      "<class 'pandas.core.frame.DataFrame'>\n",
      "RangeIndex: 678 entries, 0 to 677\n",
      "Data columns (total 56 columns):\n",
      " #   Column                            Non-Null Count  Dtype  \n",
      "---  ------                            --------------  -----  \n",
      " 0   Name                              678 non-null    object \n",
      " 1   ID                                678 non-null    int64  \n",
      " 2   Country                           675 non-null    object \n",
      " 3   Website                           675 non-null    object \n",
      " 4   Groups                            520 non-null    object \n",
      " 5   Region                            675 non-null    object \n",
      " 6   Stage                             678 non-null    object \n",
      " 7   Sector                            678 non-null    object \n",
      " 8   Description                       671 non-null    object \n",
      " 9   AI_Publications                   678 non-null    int64  \n",
      " 10  AI_Growth                         330 non-null    float64\n",
      " 11  Percentage                        678 non-null    float64\n",
      " 12  Conference_Publication            678 non-null    int64  \n",
      " 13  Citations                         678 non-null    int64  \n",
      " 14  CV_publications                   678 non-null    int64  \n",
      " 15  NLP_publications                  678 non-null    int64  \n",
      " 16  Robotics_publications             678 non-null    int64  \n",
      " 17  Total_Publications                678 non-null    int64  \n",
      " 18  AI patents                        678 non-null    int64  \n",
      " 19  Patents_Growth                    324 non-null    float64\n",
      " 20  Patent_Percentage                 678 non-null    float64\n",
      " 21  Granted_AI_patents                678 non-null    int64  \n",
      " 22  Total_patents                     678 non-null    int64  \n",
      " 23  Agriculture                       678 non-null    int64  \n",
      " 24  Banking_n_Finance                 678 non-null    int64  \n",
      " 25  Business                          678 non-null    int64  \n",
      " 26  Computing_In_Government           678 non-null    int64  \n",
      " 27  Document_Management_n_Publishing  678 non-null    int64  \n",
      " 28  Education                         678 non-null    int64  \n",
      " 29  Energy                            678 non-null    int64  \n",
      " 30  Entertainment                     678 non-null    int64  \n",
      " 31  Industry_n_Manufacturing          678 non-null    int64  \n",
      " 32  Life_Sciences                     678 non-null    int64  \n",
      " 33  Military                          678 non-null    int64  \n",
      " 34  Nanotechnology                    678 non-null    int64  \n",
      " 35  Networking                        678 non-null    int64  \n",
      " 36  Personal_Devices_N_Computing      678 non-null    int64  \n",
      " 37  Physical_Sciences_n_Engineering   678 non-null    int64  \n",
      " 38  Security                          678 non-null    int64  \n",
      " 39  Semiconductors                    678 non-null    int64  \n",
      " 40  Telecommunications                678 non-null    int64  \n",
      " 41  Transportation                    678 non-null    int64  \n",
      " 42  Analytics_n_Algorithms            678 non-null    int64  \n",
      " 43  Computer_Vision                   678 non-null    int64  \n",
      " 44  Control                           678 non-null    int64  \n",
      " 45  Distributed_AI                    678 non-null    int64  \n",
      " 46  Knowledge_Representation          678 non-null    int64  \n",
      " 47  Language_Processing               678 non-null    int64  \n",
      " 48  Measuring_n_Testing               678 non-null    int64  \n",
      " 49  Planning_n_Scheduling             678 non-null    int64  \n",
      " 50  Robotics                          678 non-null    int64  \n",
      " 51  Speech_Processing                 678 non-null    int64  \n",
      " 52  Workforce_AI_workers              678 non-null    int64  \n",
      " 53  Workforce_Tech_Team_Workers       678 non-null    int64  \n",
      " 54  City                              675 non-null    object \n",
      " 55  State/province                    664 non-null    object \n",
      "dtypes: float64(4), int64(42), object(10)\n",
      "memory usage: 296.8+ KB\n"
     ]
    }
   ],
   "source": [
    "# Checking for Null values in df1\n",
    "df1.info()"
   ]
  },
  {
   "cell_type": "code",
   "execution_count": null,
   "id": "d0152ac7",
   "metadata": {},
   "outputs": [
    {
     "data": {
      "text/plain": [
       "Name                                  0\n",
       "ID                                    0\n",
       "Country                               3\n",
       "Website                               3\n",
       "Groups                              158\n",
       "Region                                3\n",
       "Stage                                 0\n",
       "Sector                                0\n",
       "Description                           7\n",
       "AI_Publications                       0\n",
       "AI_Growth                           348\n",
       "Percentage                            0\n",
       "Conference_Publication                0\n",
       "Citations                             0\n",
       "CV_publications                       0\n",
       "NLP_publications                      0\n",
       "Robotics_publications                 0\n",
       "Total_Publications                    0\n",
       "AI patents                            0\n",
       "Patents_Growth                      354\n",
       "Patent_Percentage                     0\n",
       "Granted_AI_patents                    0\n",
       "Total_patents                         0\n",
       "Agriculture                           0\n",
       "Banking_n_Finance                     0\n",
       "Business                              0\n",
       "Computing_In_Government               0\n",
       "Document_Management_n_Publishing      0\n",
       "Education                             0\n",
       "Energy                                0\n",
       "Entertainment                         0\n",
       "Industry_n_Manufacturing              0\n",
       "Life_Sciences                         0\n",
       "Military                              0\n",
       "Nanotechnology                        0\n",
       "Networking                            0\n",
       "Personal_Devices_N_Computing          0\n",
       "Physical_Sciences_n_Engineering       0\n",
       "Security                              0\n",
       "Semiconductors                        0\n",
       "Telecommunications                    0\n",
       "Transportation                        0\n",
       "Analytics_n_Algorithms                0\n",
       "Computer_Vision                       0\n",
       "Control                               0\n",
       "Distributed_AI                        0\n",
       "Knowledge_Representation              0\n",
       "Language_Processing                   0\n",
       "Measuring_n_Testing                   0\n",
       "Planning_n_Scheduling                 0\n",
       "Robotics                              0\n",
       "Speech_Processing                     0\n",
       "Workforce_AI_workers                  0\n",
       "Workforce_Tech_Team_Workers           0\n",
       "City                                  3\n",
       "State/province                       14\n",
       "dtype: int64"
      ]
     },
     "execution_count": 118,
     "metadata": {},
     "output_type": "execute_result"
    }
   ],
   "source": [
    "# Finding Count of null values in df1\n",
    "df1.isnull().sum()"
   ]
  },
  {
   "cell_type": "code",
   "execution_count": 121,
   "id": "df96e500",
   "metadata": {},
   "outputs": [
    {
     "name": "stdout",
     "output_type": "stream",
     "text": [
      "<class 'pandas.core.frame.DataFrame'>\n",
      "RangeIndex: 711 entries, 0 to 710\n",
      "Data columns (total 4 columns):\n",
      " #   Column    Non-Null Count  Dtype \n",
      "---  ------    --------------  ----- \n",
      " 0   Name      711 non-null    object\n",
      " 1   ID        711 non-null    int64 \n",
      " 2   Ticker    711 non-null    object\n",
      " 3   Exchange  711 non-null    object\n",
      "dtypes: int64(1), object(3)\n",
      "memory usage: 22.3+ KB\n"
     ]
    }
   ],
   "source": [
    "# Checking for Null values in df2\n",
    "df2.info()"
   ]
  },
  {
   "cell_type": "code",
   "execution_count": 120,
   "id": "da881338",
   "metadata": {},
   "outputs": [
    {
     "data": {
      "text/plain": [
       "Name        0\n",
       "ID          0\n",
       "Ticker      0\n",
       "Exchange    0\n",
       "dtype: int64"
      ]
     },
     "execution_count": 120,
     "metadata": {},
     "output_type": "execute_result"
    }
   ],
   "source": [
    "# Finding Count of null values in df2\n",
    "df2.isnull().sum()"
   ]
  },
  {
   "cell_type": "markdown",
   "id": "7fb1f8fd",
   "metadata": {},
   "source": [
    "# Data Cleansing"
   ]
  },
  {
   "cell_type": "code",
   "execution_count": 123,
   "id": "8bec8929",
   "metadata": {},
   "outputs": [
    {
     "data": {
      "text/html": [
       "<div>\n",
       "<style scoped>\n",
       "    .dataframe tbody tr th:only-of-type {\n",
       "        vertical-align: middle;\n",
       "    }\n",
       "\n",
       "    .dataframe tbody tr th {\n",
       "        vertical-align: top;\n",
       "    }\n",
       "\n",
       "    .dataframe thead th {\n",
       "        text-align: right;\n",
       "    }\n",
       "</style>\n",
       "<table border=\"1\" class=\"dataframe\">\n",
       "  <thead>\n",
       "    <tr style=\"text-align: right;\">\n",
       "      <th></th>\n",
       "      <th>Name</th>\n",
       "      <th>ID</th>\n",
       "      <th>Ticker</th>\n",
       "      <th>Exchange</th>\n",
       "    </tr>\n",
       "  </thead>\n",
       "  <tbody>\n",
       "    <tr>\n",
       "      <th>0</th>\n",
       "      <td>C. H. Robinson Worldwide</td>\n",
       "      <td>2239</td>\n",
       "      <td>CHRW</td>\n",
       "      <td>NASDAQ</td>\n",
       "    </tr>\n",
       "    <tr>\n",
       "      <th>1</th>\n",
       "      <td>Kraft Heinz</td>\n",
       "      <td>2161</td>\n",
       "      <td>KHC</td>\n",
       "      <td>NASDAQ</td>\n",
       "    </tr>\n",
       "    <tr>\n",
       "      <th>2</th>\n",
       "      <td>Fastenal</td>\n",
       "      <td>2316</td>\n",
       "      <td>FAST</td>\n",
       "      <td>NASDAQ</td>\n",
       "    </tr>\n",
       "    <tr>\n",
       "      <th>3</th>\n",
       "      <td>Splunk</td>\n",
       "      <td>237</td>\n",
       "      <td>SPLK</td>\n",
       "      <td>NASDAQ</td>\n",
       "    </tr>\n",
       "    <tr>\n",
       "      <th>4</th>\n",
       "      <td>Kroger</td>\n",
       "      <td>1813</td>\n",
       "      <td>KR</td>\n",
       "      <td>NYSE</td>\n",
       "    </tr>\n",
       "  </tbody>\n",
       "</table>\n",
       "</div>"
      ],
      "text/plain": [
       "                       Name    ID Ticker Exchange\n",
       "0  C. H. Robinson Worldwide  2239   CHRW   NASDAQ\n",
       "1               Kraft Heinz  2161    KHC   NASDAQ\n",
       "2                  Fastenal  2316   FAST   NASDAQ\n",
       "3                    Splunk   237   SPLK   NASDAQ\n",
       "4                    Kroger  1813     KR     NYSE"
      ]
     },
     "execution_count": 123,
     "metadata": {},
     "output_type": "execute_result"
    }
   ],
   "source": [
    "# Removing duplicate values in df2\n",
    "df2 = df2.drop_duplicates(keep=\"first\")\n",
    "df2.head()"
   ]
  },
  {
   "cell_type": "markdown",
   "id": "6d0b5512",
   "metadata": {},
   "source": [
    "# Filtering out columns"
   ]
  },
  {
   "cell_type": "markdown",
   "id": "8463827d",
   "metadata": {},
   "source": [
    "Dependant Varaibles: AI patents, AI_Publications\n",
    "\n",
    "Independant Variable: Workforce_AI_workers, Workforce_Tech_Team_Workers"
   ]
  },
  {
   "cell_type": "code",
   "execution_count": 6,
   "id": "0a0a074a",
   "metadata": {},
   "outputs": [
    {
     "data": {
      "text/html": [
       "<div>\n",
       "<style scoped>\n",
       "    .dataframe tbody tr th:only-of-type {\n",
       "        vertical-align: middle;\n",
       "    }\n",
       "\n",
       "    .dataframe tbody tr th {\n",
       "        vertical-align: top;\n",
       "    }\n",
       "\n",
       "    .dataframe thead th {\n",
       "        text-align: right;\n",
       "    }\n",
       "</style>\n",
       "<table border=\"1\" class=\"dataframe\">\n",
       "  <thead>\n",
       "    <tr style=\"text-align: right;\">\n",
       "      <th></th>\n",
       "      <th>Name</th>\n",
       "      <th>AI patents</th>\n",
       "      <th>AI_Publications</th>\n",
       "      <th>Workforce_AI_workers</th>\n",
       "      <th>Workforce_Tech_Team_Workers</th>\n",
       "    </tr>\n",
       "  </thead>\n",
       "  <tbody>\n",
       "    <tr>\n",
       "      <th>0</th>\n",
       "      <td>Accenture Plc</td>\n",
       "      <td>489</td>\n",
       "      <td>208</td>\n",
       "      <td>13610</td>\n",
       "      <td>166212</td>\n",
       "    </tr>\n",
       "    <tr>\n",
       "      <th>1</th>\n",
       "      <td>Cognizant</td>\n",
       "      <td>77</td>\n",
       "      <td>209</td>\n",
       "      <td>5226</td>\n",
       "      <td>130530</td>\n",
       "    </tr>\n",
       "    <tr>\n",
       "      <th>2</th>\n",
       "      <td>Amazon</td>\n",
       "      <td>1819</td>\n",
       "      <td>3313</td>\n",
       "      <td>14164</td>\n",
       "      <td>128591</td>\n",
       "    </tr>\n",
       "    <tr>\n",
       "      <th>3</th>\n",
       "      <td>IBM</td>\n",
       "      <td>8724</td>\n",
       "      <td>7428</td>\n",
       "      <td>6114</td>\n",
       "      <td>117521</td>\n",
       "    </tr>\n",
       "    <tr>\n",
       "      <th>4</th>\n",
       "      <td>Microsoft</td>\n",
       "      <td>3728</td>\n",
       "      <td>9807</td>\n",
       "      <td>5245</td>\n",
       "      <td>104414</td>\n",
       "    </tr>\n",
       "  </tbody>\n",
       "</table>\n",
       "</div>"
      ],
      "text/plain": [
       "            Name  AI patents  AI_Publications  Workforce_AI_workers  \\\n",
       "0  Accenture Plc         489              208                 13610   \n",
       "1      Cognizant          77              209                  5226   \n",
       "2         Amazon        1819             3313                 14164   \n",
       "3            IBM        8724             7428                  6114   \n",
       "4      Microsoft        3728             9807                  5245   \n",
       "\n",
       "   Workforce_Tech_Team_Workers  \n",
       "0                       166212  \n",
       "1                       130530  \n",
       "2                       128591  \n",
       "3                       117521  \n",
       "4                       104414  "
      ]
     },
     "execution_count": 6,
     "metadata": {},
     "output_type": "execute_result"
    }
   ],
   "source": [
    "# Filtering out important col\n",
    "df = df1[[\"Name\", \"AI patents\", \"AI_Publications\", \"Workforce_AI_workers\", \"Workforce_Tech_Team_Workers\"]]\n",
    "df.head()"
   ]
  },
  {
   "cell_type": "markdown",
   "id": "707e387b",
   "metadata": {},
   "source": [
    "# Graphs"
   ]
  },
  {
   "cell_type": "markdown",
   "id": "8174a82f",
   "metadata": {},
   "source": [
    "# Box Plot"
   ]
  },
  {
   "cell_type": "code",
   "execution_count": 95,
   "id": "549c3709",
   "metadata": {},
   "outputs": [
    {
     "data": {
      "text/plain": [
       "[]"
      ]
     },
     "execution_count": 95,
     "metadata": {},
     "output_type": "execute_result"
    },
    {
     "data": {
      "image/png": "[encoded data removed]",
      "text/plain": [
       "<Figure size 1500x600 with 1 Axes>"
      ]
     },
     "metadata": {},
     "output_type": "display_data"
    }
   ],
   "source": [
    "boxplotdf = df.drop(['Name'], axis=1)\n",
    "\n",
    "ax = boxplotdf.plot.box(figsize=(15, 6), vert=False)\n",
    "ax.set_xlabel(\"Count\")\n",
    "ax.set_title('Boxplot for Variables', fontweight='bold')\n",
    "ax.grid(axis='x', linestyle='--', alpha=0.7)\n",
    "ax.plot()"
   ]
  },
  {
   "cell_type": "markdown",
   "id": "d14bfd27",
   "metadata": {},
   "source": [
    "# Scatter Plots"
   ]
  },
  {
   "cell_type": "code",
   "execution_count": 78,
   "id": "860c6854",
   "metadata": {},
   "outputs": [
    {
     "data": {
      "image/png": "[encoded data removed]",
      "text/plain": [
       "<Figure size 640x480 with 1 Axes>"
      ]
     },
     "metadata": {},
     "output_type": "display_data"
    }
   ],
   "source": [
    "fig, ax = plt.subplots()\n",
    "\n",
    "ax.scatter(x=df[\"AI patents\"], y=df[\"Workforce_AI_workers\"])\n",
    "ax.scatter(x=df[\"AI patents\"], y=df[\"Workforce_Tech_Team_Workers\"])\n",
    "ax.legend([\"Workforce_AI_workers\", 'Workforce_Tech_Team_Workers'])\n",
    "plt.xlabel(\"AI Patents\")\n",
    "plt.ylabel(\"Workforce Metrix\")\n",
    "plt.title(\"AI Patents vs Scale of Tech Workforce\")\n",
    "\n",
    "plt.show()"
   ]
  },
  {
   "cell_type": "code",
   "execution_count": 77,
   "id": "23cc0ddf",
   "metadata": {},
   "outputs": [
    {
     "data": {
      "image/png": "[encoded data removed]",
      "text/plain": [
       "<Figure size 640x480 with 1 Axes>"
      ]
     },
     "metadata": {},
     "output_type": "display_data"
    }
   ],
   "source": [
    "fig, ax = plt.subplots()\n",
    "\n",
    "\n",
    "ax.scatter(x=df[\"AI_Publications\"], y=df[\"Workforce_AI_workers\"])\n",
    "ax.scatter(x=df[\"AI_Publications\"], y=df[\"Workforce_Tech_Team_Workers\"])\n",
    "ax.legend([\"Workforce_AI_workers\", 'Workforce_Tech_Team_Workers'])\n",
    "plt.xlabel(\"AI Publications\")\n",
    "plt.ylabel(\"Workforce Metrix\")\n",
    "plt.title(\"AI Publications vs Scale of Tech Workforce\")\n",
    "\n",
    "plt.show()"
   ]
  }
 ],
 "metadata": {
  "kernelspec": {
   "display_name": "base",
   "language": "python",
   "name": "python3"
  },
  "language_info": {
   "codemirror_mode": {
    "name": "ipython",
    "version": 3
   },
   "file_extension": ".py",
   "mimetype": "text/x-python",
   "name": "python",
   "nbconvert_exporter": "python",
   "pygments_lexer": "ipython3",
   "version": "3.9.13"
  }
 },
 "nbformat": 4,
 "nbformat_minor": 5
}
